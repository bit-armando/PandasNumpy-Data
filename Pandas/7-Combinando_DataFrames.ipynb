{
 "cells": [
  {
   "attachments": {},
   "cell_type": "markdown",
   "metadata": {},
   "source": [
    "<img src='../Img/Merge.webp'>"
   ]
  },
  {
   "attachments": {},
   "cell_type": "markdown",
   "metadata": {},
   "source": [
    "* **Left join:** Da prioridad al DataFrame de la izquierda. Trae siempre los datos de la izquierda y las filas en común con el DataFrame de la derecha.\n",
    "* **Right join:** Da prioridad al DataFrame de la derecha. Trae siempre los datos de la derecha y las filas en común con el DataFrame de la izquierda.\n",
    "* **Inner join:** Trae solamente aquellos datos que son común en ambos DataFrame\n",
    "* **Outer join:** Trae los datos tanto del DataFrame de la izquierda como el de la derecha, incluyendo los datos que comparten ambos."
   ]
  },
  {
   "cell_type": "code",
   "execution_count": null,
   "metadata": {},
   "outputs": [],
   "source": []
  }
 ],
 "metadata": {
  "kernelspec": {
   "display_name": "scrap",
   "language": "python",
   "name": "python3"
  },
  "language_info": {
   "name": "python",
   "version": "3.11.0"
  },
  "orig_nbformat": 4,
  "vscode": {
   "interpreter": {
    "hash": "602fe972cf46b686ed2d61ef0b151b001c52e2e87f011007ef2f7fa40d23773b"
   }
  }
 },
 "nbformat": 4,
 "nbformat_minor": 2
}
